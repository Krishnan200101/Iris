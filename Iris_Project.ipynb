{
  "cells": [
    {
      "cell_type": "code",
      "execution_count": 70,
      "metadata": {
        "id": "Mx71UvoUE9jr"
      },
      "outputs": [],
      "source": []
    },
    {
      "cell_type": "code",
      "execution_count": 71,
      "metadata": {
        "id": "ArKlOjSJEvHa"
      },
      "outputs": [],
      "source": [
        "import tensorflow as tf\n",
        "import numpy as np\n",
        "import matplotlib.pyplot as plt\n",
        "from sklearn.datasets import load_iris\n",
        "from sklearn.model_selection import train_test_split\n",
        "from sklearn.preprocessing import OneHotEncoder\n",
        "from sklearn.metrics import confusion_matrix, classification_report"
      ]
    },
    {
      "cell_type": "code",
      "execution_count": 72,
      "metadata": {
        "id": "2f4qWbCJGTGg"
      },
      "outputs": [],
      "source": [
        "# Load iris dataset\n",
        "iris = load_iris()"
      ]
    },
    {
      "cell_type": "code",
      "execution_count": 73,
      "metadata": {
        "colab": {
          "base_uri": "https://localhost:8080/"
        },
        "id": "QI0Q89U7Ggwn",
        "outputId": "e16a951d-853e-4ac3-a314-06353a293081"
      },
      "outputs": [
        {
          "data": {
            "text/plain": [
              "['sepal length (cm)',\n",
              " 'sepal width (cm)',\n",
              " 'petal length (cm)',\n",
              " 'petal width (cm)']"
            ]
          },
          "execution_count": 73,
          "metadata": {},
          "output_type": "execute_result"
        }
      ],
      "source": [
        "iris.feature_names"
      ]
    },
    {
      "cell_type": "code",
      "execution_count": 74,
      "metadata": {
        "colab": {
          "base_uri": "https://localhost:8080/"
        },
        "id": "3run5UwSHJl_",
        "outputId": "553275e7-3471-4a99-d0ff-3fddadbc54f3"
      },
      "outputs": [
        {
          "data": {
            "text/plain": [
              "array(['setosa', 'versicolor', 'virginica'], dtype='<U10')"
            ]
          },
          "execution_count": 74,
          "metadata": {},
          "output_type": "execute_result"
        }
      ],
      "source": [
        "iris.target_names"
      ]
    },
    {
      "cell_type": "code",
      "execution_count": 75,
      "metadata": {
        "colab": {
          "base_uri": "https://localhost:8080/"
        },
        "id": "8SJ7LN9tHMsr",
        "outputId": "c31f0423-df83-48bf-c80f-2698e8940294"
      },
      "outputs": [
        {
          "data": {
            "text/plain": [
              "array([0, 0, 0, 0, 0, 0, 0, 0, 0, 0, 0, 0, 0, 0, 0, 0, 0, 0, 0, 0, 0, 0,\n",
              "       0, 0, 0, 0, 0, 0, 0, 0, 0, 0, 0, 0, 0, 0, 0, 0, 0, 0, 0, 0, 0, 0,\n",
              "       0, 0, 0, 0, 0, 0, 1, 1, 1, 1, 1, 1, 1, 1, 1, 1, 1, 1, 1, 1, 1, 1,\n",
              "       1, 1, 1, 1, 1, 1, 1, 1, 1, 1, 1, 1, 1, 1, 1, 1, 1, 1, 1, 1, 1, 1,\n",
              "       1, 1, 1, 1, 1, 1, 1, 1, 1, 1, 1, 1, 2, 2, 2, 2, 2, 2, 2, 2, 2, 2,\n",
              "       2, 2, 2, 2, 2, 2, 2, 2, 2, 2, 2, 2, 2, 2, 2, 2, 2, 2, 2, 2, 2, 2,\n",
              "       2, 2, 2, 2, 2, 2, 2, 2, 2, 2, 2, 2, 2, 2, 2, 2, 2, 2])"
            ]
          },
          "execution_count": 75,
          "metadata": {},
          "output_type": "execute_result"
        }
      ],
      "source": [
        "iris.target"
      ]
    },
    {
      "cell_type": "code",
      "execution_count": null,
      "metadata": {
        "colab": {
          "base_uri": "https://localhost:8080/"
        },
        "id": "xi-gQzE5HPX_",
        "outputId": "7388f11d-9fb9-46ba-c7f1-7f9ca3599517"
      },
      "outputs": [
        {
          "data": {
            "text/plain": [
              "array([[0],\n",
              "       [0],\n",
              "       [0],\n",
              "       [0],\n",
              "       [0]])"
            ]
          },
          "execution_count": 76,
          "metadata": {},
          "output_type": "execute_result"
        }
      ],
      "source": [
        "iris.target.reshape(-1, 1) [:5]"
      ]
    },
    {
      "cell_type": "code",
      "execution_count": 77,
      "metadata": {
        "id": "9NLlmwOIHb5j"
      },
      "outputs": [],
      "source": [
        "X = iris.data # Features (for X)\n",
        "y = iris.target.reshape(-1, 1) # Target variables (for y)"
      ]
    },
    {
      "cell_type": "code",
      "execution_count": 78,
      "metadata": {
        "colab": {
          "base_uri": "https://localhost:8080/"
        },
        "id": "vVq3x0COIYjm",
        "outputId": "f9600bcb-6df5-44e4-b268-0fe4cc1560d1"
      },
      "outputs": [
        {
          "data": {
            "text/plain": [
              "array([[5.1, 3.5, 1.4, 0.2],\n",
              "       [4.9, 3. , 1.4, 0.2],\n",
              "       [4.7, 3.2, 1.3, 0.2],\n",
              "       [4.6, 3.1, 1.5, 0.2],\n",
              "       [5. , 3.6, 1.4, 0.2]])"
            ]
          },
          "execution_count": 78,
          "metadata": {},
          "output_type": "execute_result"
        }
      ],
      "source": [
        "# First five data points\n",
        "X[:5]"
      ]
    },
    {
      "cell_type": "code",
      "execution_count": 79,
      "metadata": {
        "id": "VdA7Kv0WIp-c"
      },
      "outputs": [],
      "source": [
        "# One-hot encode the target variable\n",
        "encoder = OneHotEncoder(categories='auto') #objects goes to the label, he automatically finds a way to encode those labels\n",
        "y = encoder.fit_transform(y).toarray() #Passing orginal array to quick transform array"
      ]
    },
    {
      "cell_type": "code",
      "execution_count": 80,
      "metadata": {
        "id": "xpTnHHMaI8qs"
      },
      "outputs": [],
      "source": [
        "X_train, X_test, y_train, y_test = train_test_split(X, y, test_size=0.2, random_state=42) #splitting our entire data set into train test, here test_size defers 20% of whole set, random state shuffles the entire set so randomly the numbers are selected"
      ]
    },
    {
      "cell_type": "code",
      "execution_count": 81,
      "metadata": {
        "id": "bxPnQ7pmJKuK"
      },
      "outputs": [],
      "source": [
        "model = tf.keras.models.Sequential([\n",
        "    tf.keras.layers.Dense(10, activation='relu', input_shape=(4,)), #Input layer is embedded inside the first one but technically there are four layers, neurons prefer non linearity inorder to break the linearity we use activation\n",
        "    tf.keras.layers.Dense(8, activation='relu'), # it is a rule to use input_shape in dense in order to view how many inputs are entered\n",
        "    tf.keras.layers.Dense(3, activation='softmax') # softmax function gives us the probability value that is equal for each class\n",
        "])"
      ]
    },
    {
      "cell_type": "code",
      "execution_count": 82,
      "metadata": {
        "id": "oq_z5RWDKBFN"
      },
      "outputs": [],
      "source": [
        "model.compile(optimizer='adam', # it is to find to minimum value for breaks and bias in the neuron networks\n",
        "              loss='categorical_crossentropy', # going to calculate the error\n",
        "              metrics=['accuracy']) # entire model is evaluated on the accuracy"
      ]
    },
    {
      "cell_type": "code",
      "execution_count": 83,
      "metadata": {
        "colab": {
          "base_uri": "https://localhost:8080/"
        },
        "id": "q2fHFSa9MPSH",
        "outputId": "de8482b0-2552-4b3f-e521-bcba09bb2cd6"
      },
      "outputs": [
        {
          "name": "stdout",
          "output_type": "stream",
          "text": [
            "Epoch 1/100\n",
            "24/24 [==============================] - 1s 11ms/step - loss: 2.3132 - accuracy: 0.3417 - val_loss: 2.1987 - val_accuracy: 0.3000\n",
            "Epoch 2/100\n",
            "24/24 [==============================] - 0s 4ms/step - loss: 1.8246 - accuracy: 0.3417 - val_loss: 1.7547 - val_accuracy: 0.3000\n",
            "Epoch 3/100\n",
            "24/24 [==============================] - 0s 3ms/step - loss: 1.4925 - accuracy: 0.3417 - val_loss: 1.4690 - val_accuracy: 0.3000\n",
            "Epoch 4/100\n",
            "24/24 [==============================] - 0s 3ms/step - loss: 1.2883 - accuracy: 0.3417 - val_loss: 1.2426 - val_accuracy: 0.3000\n",
            "Epoch 5/100\n",
            "24/24 [==============================] - 0s 4ms/step - loss: 1.1020 - accuracy: 0.3417 - val_loss: 1.0664 - val_accuracy: 0.3000\n",
            "Epoch 6/100\n",
            "24/24 [==============================] - 0s 3ms/step - loss: 0.9338 - accuracy: 0.3417 - val_loss: 0.8744 - val_accuracy: 0.3000\n",
            "Epoch 7/100\n",
            "24/24 [==============================] - 0s 3ms/step - loss: 0.7675 - accuracy: 0.7667 - val_loss: 0.7277 - val_accuracy: 0.8333\n",
            "Epoch 8/100\n",
            "24/24 [==============================] - 0s 3ms/step - loss: 0.6926 - accuracy: 0.8500 - val_loss: 0.6671 - val_accuracy: 0.8667\n",
            "Epoch 9/100\n",
            "24/24 [==============================] - 0s 3ms/step - loss: 0.6397 - accuracy: 0.8833 - val_loss: 0.6258 - val_accuracy: 0.8667\n",
            "Epoch 10/100\n",
            "24/24 [==============================] - 0s 3ms/step - loss: 0.6027 - accuracy: 0.8917 - val_loss: 0.5927 - val_accuracy: 0.8333\n",
            "Epoch 11/100\n",
            "24/24 [==============================] - 0s 3ms/step - loss: 0.5732 - accuracy: 0.9583 - val_loss: 0.5593 - val_accuracy: 0.8667\n",
            "Epoch 12/100\n",
            "24/24 [==============================] - 0s 3ms/step - loss: 0.5425 - accuracy: 0.8917 - val_loss: 0.5325 - val_accuracy: 0.8667\n",
            "Epoch 13/100\n",
            "24/24 [==============================] - 0s 4ms/step - loss: 0.5247 - accuracy: 0.8333 - val_loss: 0.5113 - val_accuracy: 0.8667\n",
            "Epoch 14/100\n",
            "24/24 [==============================] - 0s 3ms/step - loss: 0.4959 - accuracy: 0.9500 - val_loss: 0.4942 - val_accuracy: 0.8333\n",
            "Epoch 15/100\n",
            "24/24 [==============================] - 0s 3ms/step - loss: 0.4775 - accuracy: 0.9333 - val_loss: 0.4776 - val_accuracy: 0.8667\n",
            "Epoch 16/100\n",
            "24/24 [==============================] - 0s 3ms/step - loss: 0.4602 - accuracy: 0.9167 - val_loss: 0.4633 - val_accuracy: 0.8333\n",
            "Epoch 17/100\n",
            "24/24 [==============================] - 0s 3ms/step - loss: 0.4420 - accuracy: 0.9667 - val_loss: 0.4491 - val_accuracy: 0.8333\n",
            "Epoch 18/100\n",
            "24/24 [==============================] - 0s 4ms/step - loss: 0.4280 - accuracy: 0.9333 - val_loss: 0.4298 - val_accuracy: 0.8667\n",
            "Epoch 19/100\n",
            "24/24 [==============================] - 0s 3ms/step - loss: 0.4129 - accuracy: 0.9417 - val_loss: 0.4165 - val_accuracy: 0.8667\n",
            "Epoch 20/100\n",
            "24/24 [==============================] - 0s 3ms/step - loss: 0.3964 - accuracy: 0.9417 - val_loss: 0.4033 - val_accuracy: 0.8667\n",
            "Epoch 21/100\n",
            "24/24 [==============================] - 0s 3ms/step - loss: 0.3797 - accuracy: 0.9333 - val_loss: 0.3926 - val_accuracy: 0.8333\n",
            "Epoch 22/100\n",
            "24/24 [==============================] - 0s 3ms/step - loss: 0.3665 - accuracy: 0.9667 - val_loss: 0.3828 - val_accuracy: 0.9000\n",
            "Epoch 23/100\n",
            "24/24 [==============================] - 0s 3ms/step - loss: 0.3525 - accuracy: 0.9667 - val_loss: 0.3673 - val_accuracy: 0.8667\n",
            "Epoch 24/100\n",
            "24/24 [==============================] - 0s 3ms/step - loss: 0.3403 - accuracy: 0.9250 - val_loss: 0.3569 - val_accuracy: 0.8333\n",
            "Epoch 25/100\n",
            "24/24 [==============================] - 0s 3ms/step - loss: 0.3277 - accuracy: 0.9750 - val_loss: 0.3471 - val_accuracy: 0.9000\n",
            "Epoch 26/100\n",
            "24/24 [==============================] - 0s 3ms/step - loss: 0.3175 - accuracy: 0.9667 - val_loss: 0.3385 - val_accuracy: 0.9000\n",
            "Epoch 27/100\n",
            "24/24 [==============================] - 0s 3ms/step - loss: 0.3106 - accuracy: 0.9583 - val_loss: 0.3273 - val_accuracy: 0.8667\n",
            "Epoch 28/100\n",
            "24/24 [==============================] - 0s 3ms/step - loss: 0.3004 - accuracy: 0.9333 - val_loss: 0.3274 - val_accuracy: 0.8667\n",
            "Epoch 29/100\n",
            "24/24 [==============================] - 0s 3ms/step - loss: 0.2937 - accuracy: 0.9750 - val_loss: 0.3106 - val_accuracy: 0.9333\n",
            "Epoch 30/100\n",
            "24/24 [==============================] - 0s 3ms/step - loss: 0.2783 - accuracy: 0.9667 - val_loss: 0.3059 - val_accuracy: 0.9000\n",
            "Epoch 31/100\n",
            "24/24 [==============================] - 0s 4ms/step - loss: 0.2683 - accuracy: 0.9750 - val_loss: 0.2957 - val_accuracy: 0.9000\n",
            "Epoch 32/100\n",
            "24/24 [==============================] - 0s 3ms/step - loss: 0.2616 - accuracy: 0.9667 - val_loss: 0.2919 - val_accuracy: 0.9000\n",
            "Epoch 33/100\n",
            "24/24 [==============================] - 0s 3ms/step - loss: 0.2551 - accuracy: 0.9667 - val_loss: 0.2852 - val_accuracy: 0.9000\n",
            "Epoch 34/100\n",
            "24/24 [==============================] - 0s 3ms/step - loss: 0.2453 - accuracy: 0.9750 - val_loss: 0.2770 - val_accuracy: 0.9000\n",
            "Epoch 35/100\n",
            "24/24 [==============================] - 0s 3ms/step - loss: 0.2388 - accuracy: 0.9750 - val_loss: 0.2686 - val_accuracy: 0.9333\n",
            "Epoch 36/100\n",
            "24/24 [==============================] - 0s 3ms/step - loss: 0.2322 - accuracy: 0.9750 - val_loss: 0.2622 - val_accuracy: 0.9333\n",
            "Epoch 37/100\n",
            "24/24 [==============================] - 0s 3ms/step - loss: 0.2278 - accuracy: 0.9750 - val_loss: 0.2576 - val_accuracy: 0.9000\n",
            "Epoch 38/100\n",
            "24/24 [==============================] - 0s 3ms/step - loss: 0.2195 - accuracy: 0.9750 - val_loss: 0.2539 - val_accuracy: 0.9000\n",
            "Epoch 39/100\n",
            "24/24 [==============================] - 0s 4ms/step - loss: 0.2165 - accuracy: 0.9583 - val_loss: 0.2494 - val_accuracy: 0.9000\n",
            "Epoch 40/100\n",
            "24/24 [==============================] - 0s 3ms/step - loss: 0.2095 - accuracy: 0.9750 - val_loss: 0.2443 - val_accuracy: 0.9000\n",
            "Epoch 41/100\n",
            "24/24 [==============================] - 0s 3ms/step - loss: 0.2054 - accuracy: 0.9750 - val_loss: 0.2367 - val_accuracy: 0.9000\n",
            "Epoch 42/100\n",
            "24/24 [==============================] - 0s 3ms/step - loss: 0.1970 - accuracy: 0.9833 - val_loss: 0.2352 - val_accuracy: 0.9000\n",
            "Epoch 43/100\n",
            "24/24 [==============================] - 0s 3ms/step - loss: 0.1951 - accuracy: 0.9750 - val_loss: 0.2369 - val_accuracy: 0.8667\n",
            "Epoch 44/100\n",
            "24/24 [==============================] - 0s 3ms/step - loss: 0.1916 - accuracy: 0.9667 - val_loss: 0.2325 - val_accuracy: 0.8667\n",
            "Epoch 45/100\n",
            "24/24 [==============================] - 0s 3ms/step - loss: 0.1816 - accuracy: 0.9833 - val_loss: 0.2182 - val_accuracy: 0.9667\n",
            "Epoch 46/100\n",
            "24/24 [==============================] - 0s 3ms/step - loss: 0.1773 - accuracy: 0.9833 - val_loss: 0.2189 - val_accuracy: 0.9000\n",
            "Epoch 47/100\n",
            "24/24 [==============================] - 0s 3ms/step - loss: 0.1871 - accuracy: 0.9583 - val_loss: 0.2099 - val_accuracy: 0.9667\n",
            "Epoch 48/100\n",
            "24/24 [==============================] - 0s 3ms/step - loss: 0.1714 - accuracy: 0.9667 - val_loss: 0.2155 - val_accuracy: 0.8667\n",
            "Epoch 49/100\n",
            "24/24 [==============================] - 0s 4ms/step - loss: 0.1662 - accuracy: 0.9750 - val_loss: 0.2031 - val_accuracy: 0.9667\n",
            "Epoch 50/100\n",
            "24/24 [==============================] - 0s 3ms/step - loss: 0.1719 - accuracy: 0.9583 - val_loss: 0.2261 - val_accuracy: 0.9000\n",
            "Epoch 51/100\n",
            "24/24 [==============================] - 0s 3ms/step - loss: 0.1719 - accuracy: 0.9750 - val_loss: 0.1994 - val_accuracy: 0.9000\n",
            "Epoch 52/100\n",
            "24/24 [==============================] - 0s 3ms/step - loss: 0.1564 - accuracy: 0.9750 - val_loss: 0.1972 - val_accuracy: 0.9000\n",
            "Epoch 53/100\n",
            "24/24 [==============================] - 0s 4ms/step - loss: 0.1566 - accuracy: 0.9750 - val_loss: 0.1921 - val_accuracy: 0.9667\n",
            "Epoch 54/100\n",
            "24/24 [==============================] - 0s 4ms/step - loss: 0.1571 - accuracy: 0.9667 - val_loss: 0.1967 - val_accuracy: 0.8667\n",
            "Epoch 55/100\n",
            "24/24 [==============================] - 0s 3ms/step - loss: 0.1562 - accuracy: 0.9750 - val_loss: 0.1842 - val_accuracy: 0.9667\n",
            "Epoch 56/100\n",
            "24/24 [==============================] - 0s 3ms/step - loss: 0.1461 - accuracy: 0.9750 - val_loss: 0.1835 - val_accuracy: 0.9667\n",
            "Epoch 57/100\n",
            "24/24 [==============================] - 0s 3ms/step - loss: 0.1458 - accuracy: 0.9750 - val_loss: 0.1972 - val_accuracy: 0.9000\n",
            "Epoch 58/100\n",
            "24/24 [==============================] - 0s 3ms/step - loss: 0.1382 - accuracy: 0.9667 - val_loss: 0.1759 - val_accuracy: 0.9667\n",
            "Epoch 59/100\n",
            "24/24 [==============================] - 0s 3ms/step - loss: 0.1457 - accuracy: 0.9750 - val_loss: 0.1977 - val_accuracy: 0.9000\n",
            "Epoch 60/100\n",
            "24/24 [==============================] - 0s 3ms/step - loss: 0.1399 - accuracy: 0.9667 - val_loss: 0.1783 - val_accuracy: 0.9667\n",
            "Epoch 61/100\n",
            "24/24 [==============================] - 0s 3ms/step - loss: 0.1382 - accuracy: 0.9750 - val_loss: 0.1818 - val_accuracy: 0.8667\n",
            "Epoch 62/100\n",
            "24/24 [==============================] - 0s 4ms/step - loss: 0.1339 - accuracy: 0.9750 - val_loss: 0.1659 - val_accuracy: 0.9667\n",
            "Epoch 63/100\n",
            "24/24 [==============================] - 0s 3ms/step - loss: 0.1330 - accuracy: 0.9667 - val_loss: 0.1701 - val_accuracy: 0.9333\n",
            "Epoch 64/100\n",
            "24/24 [==============================] - 0s 3ms/step - loss: 0.1271 - accuracy: 0.9750 - val_loss: 0.1658 - val_accuracy: 0.9667\n",
            "Epoch 65/100\n",
            "24/24 [==============================] - 0s 3ms/step - loss: 0.1259 - accuracy: 0.9833 - val_loss: 0.1698 - val_accuracy: 0.9000\n",
            "Epoch 66/100\n",
            "24/24 [==============================] - 0s 3ms/step - loss: 0.1238 - accuracy: 0.9750 - val_loss: 0.1599 - val_accuracy: 0.9667\n",
            "Epoch 67/100\n",
            "24/24 [==============================] - 0s 3ms/step - loss: 0.1235 - accuracy: 0.9833 - val_loss: 0.1606 - val_accuracy: 0.9333\n",
            "Epoch 68/100\n",
            "24/24 [==============================] - 0s 3ms/step - loss: 0.1289 - accuracy: 0.9667 - val_loss: 0.1540 - val_accuracy: 0.9667\n",
            "Epoch 69/100\n",
            "24/24 [==============================] - 0s 3ms/step - loss: 0.1215 - accuracy: 0.9833 - val_loss: 0.1599 - val_accuracy: 0.9333\n",
            "Epoch 70/100\n",
            "24/24 [==============================] - 0s 4ms/step - loss: 0.1182 - accuracy: 0.9667 - val_loss: 0.1541 - val_accuracy: 0.9667\n",
            "Epoch 71/100\n",
            "24/24 [==============================] - 0s 3ms/step - loss: 0.1177 - accuracy: 0.9750 - val_loss: 0.1528 - val_accuracy: 0.9667\n",
            "Epoch 72/100\n",
            "24/24 [==============================] - 0s 3ms/step - loss: 0.1135 - accuracy: 0.9750 - val_loss: 0.1510 - val_accuracy: 0.9667\n",
            "Epoch 73/100\n",
            "24/24 [==============================] - 0s 3ms/step - loss: 0.1176 - accuracy: 0.9833 - val_loss: 0.1667 - val_accuracy: 0.9000\n",
            "Epoch 74/100\n",
            "24/24 [==============================] - 0s 4ms/step - loss: 0.1231 - accuracy: 0.9500 - val_loss: 0.1441 - val_accuracy: 0.9667\n",
            "Epoch 75/100\n",
            "24/24 [==============================] - 0s 3ms/step - loss: 0.1162 - accuracy: 0.9833 - val_loss: 0.1539 - val_accuracy: 0.9333\n",
            "Epoch 76/100\n",
            "24/24 [==============================] - 0s 4ms/step - loss: 0.1109 - accuracy: 0.9833 - val_loss: 0.1462 - val_accuracy: 0.9667\n",
            "Epoch 77/100\n",
            "24/24 [==============================] - 0s 3ms/step - loss: 0.1145 - accuracy: 0.9667 - val_loss: 0.1399 - val_accuracy: 0.9667\n",
            "Epoch 78/100\n",
            "24/24 [==============================] - 0s 4ms/step - loss: 0.1140 - accuracy: 0.9750 - val_loss: 0.1698 - val_accuracy: 0.9000\n",
            "Epoch 79/100\n",
            "24/24 [==============================] - 0s 3ms/step - loss: 0.1092 - accuracy: 0.9750 - val_loss: 0.1459 - val_accuracy: 0.9333\n",
            "Epoch 80/100\n",
            "24/24 [==============================] - 0s 3ms/step - loss: 0.1071 - accuracy: 0.9750 - val_loss: 0.1499 - val_accuracy: 0.9000\n",
            "Epoch 81/100\n",
            "24/24 [==============================] - 0s 4ms/step - loss: 0.1083 - accuracy: 0.9750 - val_loss: 0.1537 - val_accuracy: 0.9000\n",
            "Epoch 82/100\n",
            "24/24 [==============================] - 0s 3ms/step - loss: 0.1056 - accuracy: 0.9750 - val_loss: 0.1335 - val_accuracy: 0.9667\n",
            "Epoch 83/100\n",
            "24/24 [==============================] - 0s 3ms/step - loss: 0.1036 - accuracy: 0.9750 - val_loss: 0.1439 - val_accuracy: 0.9333\n",
            "Epoch 84/100\n",
            "24/24 [==============================] - 0s 4ms/step - loss: 0.1066 - accuracy: 0.9667 - val_loss: 0.1485 - val_accuracy: 0.9333\n",
            "Epoch 85/100\n",
            "24/24 [==============================] - 0s 4ms/step - loss: 0.1085 - accuracy: 0.9750 - val_loss: 0.1314 - val_accuracy: 0.9667\n",
            "Epoch 86/100\n",
            "24/24 [==============================] - 0s 3ms/step - loss: 0.1025 - accuracy: 0.9667 - val_loss: 0.1395 - val_accuracy: 0.9333\n",
            "Epoch 87/100\n",
            "24/24 [==============================] - 0s 3ms/step - loss: 0.0982 - accuracy: 0.9750 - val_loss: 0.1321 - val_accuracy: 0.9667\n",
            "Epoch 88/100\n",
            "24/24 [==============================] - 0s 3ms/step - loss: 0.0978 - accuracy: 0.9833 - val_loss: 0.1339 - val_accuracy: 0.9667\n",
            "Epoch 89/100\n",
            "24/24 [==============================] - 0s 3ms/step - loss: 0.0977 - accuracy: 0.9667 - val_loss: 0.1309 - val_accuracy: 0.9667\n",
            "Epoch 90/100\n",
            "24/24 [==============================] - 0s 3ms/step - loss: 0.0980 - accuracy: 0.9833 - val_loss: 0.1250 - val_accuracy: 0.9667\n",
            "Epoch 91/100\n",
            "24/24 [==============================] - 0s 3ms/step - loss: 0.0987 - accuracy: 0.9750 - val_loss: 0.1390 - val_accuracy: 0.9000\n",
            "Epoch 92/100\n",
            "24/24 [==============================] - 0s 4ms/step - loss: 0.0967 - accuracy: 0.9833 - val_loss: 0.1236 - val_accuracy: 0.9667\n",
            "Epoch 93/100\n",
            "24/24 [==============================] - 0s 3ms/step - loss: 0.0981 - accuracy: 0.9667 - val_loss: 0.1240 - val_accuracy: 0.9667\n",
            "Epoch 94/100\n",
            "24/24 [==============================] - 0s 3ms/step - loss: 0.0956 - accuracy: 0.9833 - val_loss: 0.1389 - val_accuracy: 0.9333\n",
            "Epoch 95/100\n",
            "24/24 [==============================] - 0s 3ms/step - loss: 0.0927 - accuracy: 0.9667 - val_loss: 0.1233 - val_accuracy: 0.9667\n",
            "Epoch 96/100\n",
            "24/24 [==============================] - 0s 5ms/step - loss: 0.0926 - accuracy: 0.9833 - val_loss: 0.1249 - val_accuracy: 0.9667\n",
            "Epoch 97/100\n",
            "24/24 [==============================] - 0s 5ms/step - loss: 0.0970 - accuracy: 0.9667 - val_loss: 0.1216 - val_accuracy: 0.9667\n",
            "Epoch 98/100\n",
            "24/24 [==============================] - 0s 5ms/step - loss: 0.0908 - accuracy: 0.9750 - val_loss: 0.1227 - val_accuracy: 0.9667\n",
            "Epoch 99/100\n",
            "24/24 [==============================] - 0s 5ms/step - loss: 0.0900 - accuracy: 0.9750 - val_loss: 0.1239 - val_accuracy: 0.9667\n",
            "Epoch 100/100\n",
            "24/24 [==============================] - 0s 5ms/step - loss: 0.0911 - accuracy: 0.9750 - val_loss: 0.1285 - val_accuracy: 0.9333\n"
          ]
        }
      ],
      "source": [
        "history = model.fit(X_train, y_train, epochs=100, batch_size=5, verbose=1, validation_data=(X_test, y_test)) # epochs will do the forward and backward propagration 100 times, backsize = 5 data points at a time, verbose gives the output from accuracy and the rest"
      ]
    },
    {
      "cell_type": "code",
      "execution_count": 84,
      "metadata": {
        "colab": {
          "base_uri": "https://localhost:8080/"
        },
        "id": "4GnUTGQ_PlhX",
        "outputId": "6724744c-3a46-41df-cf5a-fd270bc437c1"
      },
      "outputs": [
        {
          "name": "stdout",
          "output_type": "stream",
          "text": [
            "1/1 [==============================] - 0s 147ms/step - loss: 0.1285 - accuracy: 0.9333\n",
            "Test Loss: 0.12849946320056915\n",
            "Test Accuracy: 0.9333333373069763\n",
            "Validation Accuracy: 0.9333333373069763\n"
          ]
        }
      ],
      "source": [
        "# Evaluate the model\n",
        "loss, accuracy = model.evaluate(X_test, y_test)\n",
        "print(f'Test Loss: {loss}')\n",
        "print(f'Test Accuracy: {accuracy}')\n",
        "print(f'Validation Accuracy: {history.history[\"val_accuracy\"][-1]}')"
      ]
    },
    {
      "cell_type": "code",
      "execution_count": 85,
      "metadata": {
        "colab": {
          "base_uri": "https://localhost:8080/",
          "height": 472
        },
        "id": "qgzhcQPzSL5u",
        "outputId": "6b2c2e3b-e07a-4621-ee3a-2adcc8f1d4dc"
      },
      "outputs": [
        {
          "data": {
            "image/png": "[encoded data removed]",
            "text/plain": [
              "<Figure size 640x480 with 1 Axes>"
            ]
          },
          "metadata": {},
          "output_type": "display_data"
        }
      ],
      "source": [
        "# Plot training & validation accuracy values\n",
        "plt.plot(history.history['accuracy'])\n",
        "plt.plot(history.history['val_accuracy'])\n",
        "plt.title('Model accuracy')\n",
        "plt.xlabel('Epoch')\n",
        "plt.ylabel('Accuracy')\n",
        "plt.legend(['Train', 'Validation'], loc='upper left')\n",
        "plt.show()"
      ]
    },
    {
      "cell_type": "code",
      "execution_count": 89,
      "metadata": {
        "colab": {
          "base_uri": "https://localhost:8080/"
        },
        "id": "-Dk7Eb-aTtpe",
        "outputId": "1d5053d4-bf5f-4716-f1e7-dbfe8271b498"
      },
      "outputs": [
        {
          "name": "stdout",
          "output_type": "stream",
          "text": [
            "1/1 [==============================] - 0s 23ms/step\n"
          ]
        }
      ],
      "source": [
        "y_pred = model.predict(X_test)\n",
        "y_pred_classes = np.argmax(y_pred, axis=1)\n",
        "y_test_classes = np.argmax(y_test, axis=1)"
      ]
    },
    {
      "cell_type": "code",
      "execution_count": 90,
      "metadata": {
        "colab": {
          "base_uri": "https://localhost:8080/"
        },
        "id": "wiKSgzzZVFm-",
        "outputId": "a25ac48c-25cc-4a00-f2ba-12eaee6e72ef"
      },
      "outputs": [
        {
          "name": "stdout",
          "output_type": "stream",
          "text": [
            "Confusion Matrix:\n",
            "[[10  0  0]\n",
            " [ 0  8  1]\n",
            " [ 0  1 10]]\n"
          ]
        }
      ],
      "source": [
        "conf_matrix = confusion_matrix(y_test_classes, y_pred_classes)\n",
        "print(\"Confusion Matrix:\")\n",
        "print(conf_matrix)"
      ]
    },
    {
      "cell_type": "code",
      "execution_count": 91,
      "metadata": {
        "colab": {
          "base_uri": "https://localhost:8080/"
        },
        "id": "yQGZZChTVXl3",
        "outputId": "9b780c34-deb0-4721-d7fb-fdaba0eb17ba"
      },
      "outputs": [
        {
          "name": "stdout",
          "output_type": "stream",
          "text": [
            "Classification Report:\n",
            "              precision    recall  f1-score   support\n",
            "\n",
            "           0       1.00      1.00      1.00        10\n",
            "           1       0.89      0.89      0.89         9\n",
            "           2       0.91      0.91      0.91        11\n",
            "\n",
            "    accuracy                           0.93        30\n",
            "   macro avg       0.93      0.93      0.93        30\n",
            "weighted avg       0.93      0.93      0.93        30\n",
            "\n"
          ]
        }
      ],
      "source": [
        "class_report = classification_report(y_test_classes, y_pred_classes)\n",
        "print(\"Classification Report:\")\n",
        "print(class_report)"
      ]
    },
    {
      "cell_type": "code",
      "execution_count": null,
      "metadata": {
        "id": "0MpgJnxkV4WZ"
      },
      "outputs": [],
      "source": []
    }
  ],
  "metadata": {
    "colab": {
      "provenance": []
    },
    "kernelspec": {
      "display_name": "Python 3",
      "name": "python3"
    },
    "language_info": {
      "name": "python"
    }
  },
  "nbformat": 4,
  "nbformat_minor": 0
}
